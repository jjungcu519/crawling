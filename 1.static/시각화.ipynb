{
 "cells": [
  {
   "cell_type": "code",
   "execution_count": 1,
   "id": "d997c44a-c5b0-4aac-8858-776172366a13",
   "metadata": {},
   "outputs": [],
   "source": [
    "import pandas as pd\n",
    "import numpy as np\n",
    "\n",
    "df_20 = pd.read_csv('data/2020_preprocessing.csv')\n",
    "df_24 = pd.read_csv('news_data_2024.csv')\n",
    "df_24.head()\n",
    "\n",
    "log20 = pd.read_csv('2020_log.csv')\n",
    "log21 = pd.read_csv('2021_log.csv')\n",
    "log22 = pd.read_csv('2022_log.csv')\n",
    "log23 = pd.read_csv('2023_log.csv')\n",
    "log24 = pd.read_csv('2024_log.csv')"
   ]
  },
  {
   "cell_type": "code",
   "execution_count": 2,
   "id": "004c4020-ba27-46c8-9ae2-9b933f2a9473",
   "metadata": {},
   "outputs": [
    {
     "data": {
      "text/html": [
       "<div>\n",
       "<style scoped>\n",
       "    .dataframe tbody tr th:only-of-type {\n",
       "        vertical-align: middle;\n",
       "    }\n",
       "\n",
       "    .dataframe tbody tr th {\n",
       "        vertical-align: top;\n",
       "    }\n",
       "\n",
       "    .dataframe thead th {\n",
       "        text-align: right;\n",
       "    }\n",
       "</style>\n",
       "<table border=\"1\" class=\"dataframe\">\n",
       "  <thead>\n",
       "    <tr style=\"text-align: right;\">\n",
       "      <th></th>\n",
       "      <th>Press</th>\n",
       "      <th>Headline</th>\n",
       "      <th>Analysis</th>\n",
       "    </tr>\n",
       "  </thead>\n",
       "  <tbody>\n",
       "    <tr>\n",
       "      <th>0</th>\n",
       "      <td>한국경제TV</td>\n",
       "      <td>다시 '전기차'..코로나 끝나면 달릴까?</td>\n",
       "      <td>중립</td>\n",
       "    </tr>\n",
       "    <tr>\n",
       "      <th>1</th>\n",
       "      <td>경향신문</td>\n",
       "      <td>전기차, 알고 타면 '기똥차'</td>\n",
       "      <td>긍정</td>\n",
       "    </tr>\n",
       "    <tr>\n",
       "      <th>2</th>\n",
       "      <td>동아일보</td>\n",
       "      <td>지금까지 없던 '진짜 전기차'가 몰려온다</td>\n",
       "      <td>긍정</td>\n",
       "    </tr>\n",
       "    <tr>\n",
       "      <th>3</th>\n",
       "      <td>디지털타임스</td>\n",
       "      <td>벤츠 첫 전기차 '더 뉴 EQC' 실제로 몰아봤더니 ..</td>\n",
       "      <td>중립</td>\n",
       "    </tr>\n",
       "    <tr>\n",
       "      <th>4</th>\n",
       "      <td>한겨레</td>\n",
       "      <td>전기차 배터리의 질주, 2025년 반도체 뛰어넘는다</td>\n",
       "      <td>긍정</td>\n",
       "    </tr>\n",
       "    <tr>\n",
       "      <th>...</th>\n",
       "      <td>...</td>\n",
       "      <td>...</td>\n",
       "      <td>...</td>\n",
       "    </tr>\n",
       "    <tr>\n",
       "      <th>787</th>\n",
       "      <td>쿠키뉴스</td>\n",
       "      <td>전기차 전성시대..아우디·푸조·벤츠 등 전기차 대거 출시</td>\n",
       "      <td>긍정</td>\n",
       "    </tr>\n",
       "    <tr>\n",
       "      <th>788</th>\n",
       "      <td>전자신문</td>\n",
       "      <td>'충전 전기요금 인상 여파'..전기차 충전사업자 매물 나왔다</td>\n",
       "      <td>부정</td>\n",
       "    </tr>\n",
       "    <tr>\n",
       "      <th>789</th>\n",
       "      <td>뉴시스</td>\n",
       "      <td>LG화학, 전기차 배터리 주도권 '꽉'..\"내년 매출 16조원 전망\"</td>\n",
       "      <td>긍정</td>\n",
       "    </tr>\n",
       "    <tr>\n",
       "      <th>790</th>\n",
       "      <td>연합뉴스</td>\n",
       "      <td>[통통 지역경제] \"우린 전기차 타고 출근해요\" 부산청춘드림카 인기</td>\n",
       "      <td>긍정</td>\n",
       "    </tr>\n",
       "    <tr>\n",
       "      <th>791</th>\n",
       "      <td>중앙일보</td>\n",
       "      <td>수소전기차 판매 5배 늘었다..2019년 국내 자동차 시장</td>\n",
       "      <td>중립</td>\n",
       "    </tr>\n",
       "  </tbody>\n",
       "</table>\n",
       "<p>792 rows × 3 columns</p>\n",
       "</div>"
      ],
      "text/plain": [
       "      Press                                Headline Analysis\n",
       "0    한국경제TV                  다시 '전기차'..코로나 끝나면 달릴까?       중립\n",
       "1      경향신문                        전기차, 알고 타면 '기똥차'       긍정\n",
       "2      동아일보                  지금까지 없던 '진짜 전기차'가 몰려온다       긍정\n",
       "3    디지털타임스         벤츠 첫 전기차 '더 뉴 EQC' 실제로 몰아봤더니 ..       중립\n",
       "4       한겨레            전기차 배터리의 질주, 2025년 반도체 뛰어넘는다       긍정\n",
       "..      ...                                     ...      ...\n",
       "787    쿠키뉴스         전기차 전성시대..아우디·푸조·벤츠 등 전기차 대거 출시       긍정\n",
       "788    전자신문       '충전 전기요금 인상 여파'..전기차 충전사업자 매물 나왔다       부정\n",
       "789     뉴시스  LG화학, 전기차 배터리 주도권 '꽉'..\"내년 매출 16조원 전망\"       긍정\n",
       "790    연합뉴스   [통통 지역경제] \"우린 전기차 타고 출근해요\" 부산청춘드림카 인기       긍정\n",
       "791    중앙일보        수소전기차 판매 5배 늘었다..2019년 국내 자동차 시장       중립\n",
       "\n",
       "[792 rows x 3 columns]"
      ]
     },
     "execution_count": 2,
     "metadata": {},
     "output_type": "execute_result"
    }
   ],
   "source": [
    "log20"
   ]
  },
  {
   "cell_type": "code",
   "execution_count": 15,
   "id": "f68a9894-2aa4-4944-8541-31d087466e57",
   "metadata": {},
   "outputs": [],
   "source": [
    "log20['Analysis'].value_counts()"
   ]
  },
  {
   "cell_type": "code",
   "execution_count": 12,
   "id": "6cfc8d94-bd97-4b33-af6d-43cc5a06d1c1",
   "metadata": {},
   "outputs": [
    {
     "ename": "TypeError",
     "evalue": "'numpy.dtypes.Int64DType' object is not callable",
     "output_type": "error",
     "traceback": [
      "\u001b[1;31m-------------------------------------------------\u001b[0m",
      "\u001b[1;31mTypeError\u001b[0m       Traceback (most recent call last)",
      "Cell \u001b[1;32mIn[12], line 2\u001b[0m\n\u001b[0;32m      1\u001b[0m df21 \u001b[38;5;241m=\u001b[39m log21[\u001b[38;5;124m'\u001b[39m\u001b[38;5;124mAnalysis\u001b[39m\u001b[38;5;124m'\u001b[39m]\u001b[38;5;241m.\u001b[39mvalue_counts()\n\u001b[1;32m----> 2\u001b[0m \u001b[43mdf21\u001b[49m\u001b[38;5;241;43m.\u001b[39;49m\u001b[43mdtype\u001b[49m\u001b[43m(\u001b[49m\u001b[43m)\u001b[49m\n",
      "\u001b[1;31mTypeError\u001b[0m: 'numpy.dtypes.Int64DType' object is not callable"
     ]
    }
   ],
   "source": [
    "df21 = log21['Analysis'].value_counts()\n",
    "df21.dtype()"
   ]
  },
  {
   "cell_type": "code",
   "execution_count": 14,
   "id": "a46e939f-5b59-4c09-b8c8-e38c3ad71ab5",
   "metadata": {},
   "outputs": [
    {
     "ename": "AttributeError",
     "evalue": "module 'pandas' has no attribute 'to_dataFrame'",
     "output_type": "error",
     "traceback": [
      "\u001b[1;31m-------------------------------------------------\u001b[0m",
      "\u001b[1;31mAttributeError\u001b[0m  Traceback (most recent call last)",
      "Cell \u001b[1;32mIn[14], line 1\u001b[0m\n\u001b[1;32m----> 1\u001b[0m \u001b[43mpd\u001b[49m\u001b[38;5;241;43m.\u001b[39;49m\u001b[43mto_dataFrame\u001b[49m(log22[\u001b[38;5;124m'\u001b[39m\u001b[38;5;124mAnalysis\u001b[39m\u001b[38;5;124m'\u001b[39m]\u001b[38;5;241m.\u001b[39mvalue_counts())\n",
      "\u001b[1;31mAttributeError\u001b[0m: module 'pandas' has no attribute 'to_dataFrame'"
     ]
    }
   ],
   "source": [
    "log22['Analysis'].value_counts()"
   ]
  },
  {
   "cell_type": "code",
   "execution_count": 7,
   "id": "29907560-2100-4cdb-92d9-f695260bf394",
   "metadata": {},
   "outputs": [
    {
     "data": {
      "text/plain": [
       "Analysis\n",
       "부정    302\n",
       "중립    250\n",
       "긍정    229\n",
       "Name: count, dtype: int64"
      ]
     },
     "execution_count": 7,
     "metadata": {},
     "output_type": "execute_result"
    }
   ],
   "source": [
    "log23['Analysis'].value_counts()"
   ]
  },
  {
   "cell_type": "code",
   "execution_count": 8,
   "id": "3bf0fbac-9cfb-4b1c-b271-38b92b2223ef",
   "metadata": {},
   "outputs": [
    {
     "data": {
      "text/plain": [
       "Analysis\n",
       "중립    260\n",
       "긍정    256\n",
       "부정    209\n",
       "Name: count, dtype: int64"
      ]
     },
     "execution_count": 8,
     "metadata": {},
     "output_type": "execute_result"
    }
   ],
   "source": [
    "log24['Analysis'].value_counts()"
   ]
  },
  {
   "cell_type": "code",
   "execution_count": 17,
   "id": "b1f91afd-4fd3-44fe-be71-cfd844fe5a83",
   "metadata": {},
   "outputs": [],
   "source": [
    "l = log20['Analysis'].value_counts() + log21['Analysis'].value_counts() + log22['Analysis'].value_counts() + log23['Analysis'].value_counts() + log24['Analysis'].value_counts()"
   ]
  },
  {
   "cell_type": "code",
   "execution_count": 19,
   "id": "a838d34a-1056-4ffb-90b8-bc867e73fa4e",
   "metadata": {},
   "outputs": [
    {
     "name": "stdout",
     "output_type": "stream",
     "text": [
      "Analysis\n",
      "긍정    1292\n",
      "부정    1187\n",
      "중립    1394\n",
      "Name: count, dtype: int64\n"
     ]
    }
   ],
   "source": [
    "print(l)"
   ]
  },
  {
   "cell_type": "code",
   "execution_count": 20,
   "id": "6329cbca-24b7-4e44-b2e1-949d945dc1c9",
   "metadata": {},
   "outputs": [],
   "source": [
    "p = log20['Press'].value_counts() + log21['Press'].value_counts() + log22['Press'].value_counts() + log23['Press'].value_counts() + log24['Press'].value_counts()"
   ]
  },
  {
   "cell_type": "code",
   "execution_count": 21,
   "id": "3ec06f59-fa10-46a0-85c4-bc84ae161899",
   "metadata": {},
   "outputs": [
    {
     "name": "stdout",
     "output_type": "stream",
     "text": [
      "Press\n",
      "CJB청주방송      NaN\n",
      "IT동아        23.0\n",
      "JIBS         NaN\n",
      "JTBC         NaN\n",
      "KBS         84.0\n",
      "           ...  \n",
      "한경비즈니스       NaN\n",
      "한국경제       224.0\n",
      "한국경제TV      59.0\n",
      "헤럴드경제        NaN\n",
      "헬스조선         NaN\n",
      "Name: count, Length: 77, dtype: float64\n"
     ]
    }
   ],
   "source": [
    "print(p)"
   ]
  },
  {
   "cell_type": "code",
   "execution_count": null,
   "id": "50981186-1cd9-406d-bc77-c40c106c2566",
   "metadata": {},
   "outputs": [],
   "source": []
  }
 ],
 "metadata": {
  "kernelspec": {
   "display_name": "Python 3 (ipykernel)",
   "language": "python",
   "name": "python3"
  },
  "language_info": {
   "codemirror_mode": {
    "name": "ipython",
    "version": 3
   },
   "file_extension": ".py",
   "mimetype": "text/x-python",
   "name": "python",
   "nbconvert_exporter": "python",
   "pygments_lexer": "ipython3",
   "version": "3.12.4"
  }
 },
 "nbformat": 4,
 "nbformat_minor": 5
}
